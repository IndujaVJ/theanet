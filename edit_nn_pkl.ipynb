{
 "metadata": {
  "name": ""
 },
 "nbformat": 3,
 "nbformat_minor": 0,
 "worksheets": [
  {
   "cells": [
    {
     "cell_type": "code",
     "collapsed": false,
     "input": [
      "import numpy as np\n",
      "import theano\n",
      "import pickle"
     ],
     "language": "python",
     "metadata": {},
     "outputs": [],
     "prompt_number": 1
    },
    {
     "cell_type": "code",
     "collapsed": false,
     "input": [
      "pkl_fname = '471000.pkl'"
     ],
     "language": "python",
     "metadata": {},
     "outputs": [],
     "prompt_number": 8
    },
    {
     "cell_type": "code",
     "collapsed": false,
     "input": [
      "with open(pkl_fname, 'rb') as f:\n",
      "    d = pickle.load(f)"
     ],
     "language": "python",
     "metadata": {},
     "outputs": [],
     "prompt_number": 9
    },
    {
     "cell_type": "code",
     "collapsed": false,
     "input": [
      "for wb in d['allwts']:\n",
      "    if len(wb) == 0: continue\n",
      "    w, b = wb\n",
      "    print w.shape, w.dtype\n",
      "    print b.shape, b.dtype"
     ],
     "language": "python",
     "metadata": {},
     "outputs": [
      {
       "output_type": "stream",
       "stream": "stdout",
       "text": [
        "(6, 1, 5, 5) float32\n",
        "(6,) float32\n",
        "(60, 6, 2, 2) float32\n",
        "(60,) float32\n",
        "(11760, 1000) float32\n",
        "(1000,) float32\n",
        "(1000, 460) float32\n",
        "(460,) float32\n"
       ]
      }
     ],
     "prompt_number": 10
    },
    {
     "cell_type": "code",
     "collapsed": false,
     "input": [
      "d['training_params']['SEED'] = 471000"
     ],
     "language": "python",
     "metadata": {},
     "outputs": [],
     "prompt_number": 11
    },
    {
     "cell_type": "code",
     "collapsed": false,
     "input": [
      "d['training_params']"
     ],
     "language": "python",
     "metadata": {},
     "outputs": [
      {
       "metadata": {},
       "output_type": "pyout",
       "prompt_number": 12,
       "text": [
        "{'CUR_EPOCH': 20,\n",
        " 'DEFORM': 'parallel',\n",
        " 'DFM_PRMS': {'cval': 1, 'ncpus': 4, 'scale': 64, 'sigma': 8},\n",
        " 'EPOCHS_TO_HALF_RATE': 1,\n",
        " 'EPOCHS_TO_TEST': 4,\n",
        " 'INIT_LEARNING_RATE': 0.1,\n",
        " 'LAMBDA1': 0.0,\n",
        " 'LAMBDA2': 0.001,\n",
        " 'MAXNORM': 4,\n",
        " 'MOMENTUM': 0.95,\n",
        " 'NUM_EPOCHS': 201,\n",
        " 'SEED': 471000,\n",
        " 'TEST_SAMP_SZ': 5000,\n",
        " 'TRAIN_ON_FRACTION': 0.75}"
       ]
      }
     ],
     "prompt_number": 12
    },
    {
     "cell_type": "code",
     "collapsed": false,
     "input": [
      "with open(pkl_fname, 'wb') as f:\n",
      "    pickle.dump(d, f, -1)"
     ],
     "language": "python",
     "metadata": {},
     "outputs": [],
     "prompt_number": 13
    },
    {
     "cell_type": "code",
     "collapsed": false,
     "input": [],
     "language": "python",
     "metadata": {},
     "outputs": []
    }
   ],
   "metadata": {}
  }
 ]
}